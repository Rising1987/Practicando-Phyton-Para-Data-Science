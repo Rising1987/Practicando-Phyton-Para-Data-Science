{
  "nbformat": 4,
  "nbformat_minor": 0,
  "metadata": {
    "colab": {
      "provenance": [],
      "include_colab_link": true
    },
    "kernelspec": {
      "name": "python3",
      "display_name": "Python 3"
    },
    "language_info": {
      "name": "python"
    }
  },
  "cells": [
    {
      "cell_type": "markdown",
      "metadata": {
        "id": "view-in-github",
        "colab_type": "text"
      },
      "source": [
        "<a href=\"https://colab.research.google.com/github/Rising1987/Practicando-Phyton-Para-Data-Science/blob/main/Practicando_Phyton_Para_Data_Science.ipynb\" target=\"_parent\"><img src=\"https://colab.research.google.com/assets/colab-badge.svg\" alt=\"Open In Colab\"/></a>"
      ]
    },
    {
      "cell_type": "markdown",
      "source": [
        "### Importación de datos\n",
        "\n"
      ],
      "metadata": {
        "id": "RhEdWd9YUR6H"
      }
    },
    {
      "cell_type": "code",
      "execution_count": 1,
      "metadata": {
        "colab": {
          "base_uri": "https://localhost:8080/",
          "height": 394
        },
        "id": "T3EvaeQ_INIL",
        "outputId": "32e28c9b-ff8b-46c9-921f-b117026a87ab"
      },
      "outputs": [
        {
          "output_type": "execute_result",
          "data": {
            "text/plain": [
              "            Producto Categoría del Producto    Precio  Costo de envío  \\\n",
              "0  Asistente virtual           Electrónicos  164300.0          6900.0   \n",
              "1    Mesa de comedor                Muebles  192300.0          8400.0   \n",
              "2      Juego de mesa               Juguetes  209600.0         15900.0   \n",
              "3         Microondas      Electrodomésticos  757500.0         41000.0   \n",
              "4   Silla de oficina                Muebles  335200.0         20200.0   \n",
              "\n",
              "  Fecha de Compra         Vendedor Lugar de Compra  Calificación  \\\n",
              "0      16/01/2021      Pedro Gomez          Bogotá             4   \n",
              "1      18/05/2022  Beatriz Morales        Medellín             1   \n",
              "2      15/03/2021   Juan Fernandez       Cartagena             1   \n",
              "3      03/05/2022   Juan Fernandez            Cali             4   \n",
              "4      07/11/2020    Maria Alfonso        Medellín             5   \n",
              "\n",
              "       Método de pago  Cantidad de cuotas       lat       lon  \n",
              "0  Tarjeta de crédito                   8   4.60971 -74.08175  \n",
              "1  Tarjeta de crédito                   4   6.25184 -75.56359  \n",
              "2  Tarjeta de crédito                   1  10.39972 -75.51444  \n",
              "3               Nequi                   1   3.43722 -76.52250  \n",
              "4               Nequi                   1   6.25184 -75.56359  "
            ],
            "text/html": [
              "\n",
              "  <div id=\"df-21ffe273-f52f-4e2b-9805-4eb2943ce49b\" class=\"colab-df-container\">\n",
              "    <div>\n",
              "<style scoped>\n",
              "    .dataframe tbody tr th:only-of-type {\n",
              "        vertical-align: middle;\n",
              "    }\n",
              "\n",
              "    .dataframe tbody tr th {\n",
              "        vertical-align: top;\n",
              "    }\n",
              "\n",
              "    .dataframe thead th {\n",
              "        text-align: right;\n",
              "    }\n",
              "</style>\n",
              "<table border=\"1\" class=\"dataframe\">\n",
              "  <thead>\n",
              "    <tr style=\"text-align: right;\">\n",
              "      <th></th>\n",
              "      <th>Producto</th>\n",
              "      <th>Categoría del Producto</th>\n",
              "      <th>Precio</th>\n",
              "      <th>Costo de envío</th>\n",
              "      <th>Fecha de Compra</th>\n",
              "      <th>Vendedor</th>\n",
              "      <th>Lugar de Compra</th>\n",
              "      <th>Calificación</th>\n",
              "      <th>Método de pago</th>\n",
              "      <th>Cantidad de cuotas</th>\n",
              "      <th>lat</th>\n",
              "      <th>lon</th>\n",
              "    </tr>\n",
              "  </thead>\n",
              "  <tbody>\n",
              "    <tr>\n",
              "      <th>0</th>\n",
              "      <td>Asistente virtual</td>\n",
              "      <td>Electrónicos</td>\n",
              "      <td>164300.0</td>\n",
              "      <td>6900.0</td>\n",
              "      <td>16/01/2021</td>\n",
              "      <td>Pedro Gomez</td>\n",
              "      <td>Bogotá</td>\n",
              "      <td>4</td>\n",
              "      <td>Tarjeta de crédito</td>\n",
              "      <td>8</td>\n",
              "      <td>4.60971</td>\n",
              "      <td>-74.08175</td>\n",
              "    </tr>\n",
              "    <tr>\n",
              "      <th>1</th>\n",
              "      <td>Mesa de comedor</td>\n",
              "      <td>Muebles</td>\n",
              "      <td>192300.0</td>\n",
              "      <td>8400.0</td>\n",
              "      <td>18/05/2022</td>\n",
              "      <td>Beatriz Morales</td>\n",
              "      <td>Medellín</td>\n",
              "      <td>1</td>\n",
              "      <td>Tarjeta de crédito</td>\n",
              "      <td>4</td>\n",
              "      <td>6.25184</td>\n",
              "      <td>-75.56359</td>\n",
              "    </tr>\n",
              "    <tr>\n",
              "      <th>2</th>\n",
              "      <td>Juego de mesa</td>\n",
              "      <td>Juguetes</td>\n",
              "      <td>209600.0</td>\n",
              "      <td>15900.0</td>\n",
              "      <td>15/03/2021</td>\n",
              "      <td>Juan Fernandez</td>\n",
              "      <td>Cartagena</td>\n",
              "      <td>1</td>\n",
              "      <td>Tarjeta de crédito</td>\n",
              "      <td>1</td>\n",
              "      <td>10.39972</td>\n",
              "      <td>-75.51444</td>\n",
              "    </tr>\n",
              "    <tr>\n",
              "      <th>3</th>\n",
              "      <td>Microondas</td>\n",
              "      <td>Electrodomésticos</td>\n",
              "      <td>757500.0</td>\n",
              "      <td>41000.0</td>\n",
              "      <td>03/05/2022</td>\n",
              "      <td>Juan Fernandez</td>\n",
              "      <td>Cali</td>\n",
              "      <td>4</td>\n",
              "      <td>Nequi</td>\n",
              "      <td>1</td>\n",
              "      <td>3.43722</td>\n",
              "      <td>-76.52250</td>\n",
              "    </tr>\n",
              "    <tr>\n",
              "      <th>4</th>\n",
              "      <td>Silla de oficina</td>\n",
              "      <td>Muebles</td>\n",
              "      <td>335200.0</td>\n",
              "      <td>20200.0</td>\n",
              "      <td>07/11/2020</td>\n",
              "      <td>Maria Alfonso</td>\n",
              "      <td>Medellín</td>\n",
              "      <td>5</td>\n",
              "      <td>Nequi</td>\n",
              "      <td>1</td>\n",
              "      <td>6.25184</td>\n",
              "      <td>-75.56359</td>\n",
              "    </tr>\n",
              "  </tbody>\n",
              "</table>\n",
              "</div>\n",
              "    <div class=\"colab-df-buttons\">\n",
              "\n",
              "  <div class=\"colab-df-container\">\n",
              "    <button class=\"colab-df-convert\" onclick=\"convertToInteractive('df-21ffe273-f52f-4e2b-9805-4eb2943ce49b')\"\n",
              "            title=\"Convert this dataframe to an interactive table.\"\n",
              "            style=\"display:none;\">\n",
              "\n",
              "  <svg xmlns=\"http://www.w3.org/2000/svg\" height=\"24px\" viewBox=\"0 -960 960 960\">\n",
              "    <path d=\"M120-120v-720h720v720H120Zm60-500h600v-160H180v160Zm220 220h160v-160H400v160Zm0 220h160v-160H400v160ZM180-400h160v-160H180v160Zm440 0h160v-160H620v160ZM180-180h160v-160H180v160Zm440 0h160v-160H620v160Z\"/>\n",
              "  </svg>\n",
              "    </button>\n",
              "\n",
              "  <style>\n",
              "    .colab-df-container {\n",
              "      display:flex;\n",
              "      gap: 12px;\n",
              "    }\n",
              "\n",
              "    .colab-df-convert {\n",
              "      background-color: #E8F0FE;\n",
              "      border: none;\n",
              "      border-radius: 50%;\n",
              "      cursor: pointer;\n",
              "      display: none;\n",
              "      fill: #1967D2;\n",
              "      height: 32px;\n",
              "      padding: 0 0 0 0;\n",
              "      width: 32px;\n",
              "    }\n",
              "\n",
              "    .colab-df-convert:hover {\n",
              "      background-color: #E2EBFA;\n",
              "      box-shadow: 0px 1px 2px rgba(60, 64, 67, 0.3), 0px 1px 3px 1px rgba(60, 64, 67, 0.15);\n",
              "      fill: #174EA6;\n",
              "    }\n",
              "\n",
              "    .colab-df-buttons div {\n",
              "      margin-bottom: 4px;\n",
              "    }\n",
              "\n",
              "    [theme=dark] .colab-df-convert {\n",
              "      background-color: #3B4455;\n",
              "      fill: #D2E3FC;\n",
              "    }\n",
              "\n",
              "    [theme=dark] .colab-df-convert:hover {\n",
              "      background-color: #434B5C;\n",
              "      box-shadow: 0px 1px 3px 1px rgba(0, 0, 0, 0.15);\n",
              "      filter: drop-shadow(0px 1px 2px rgba(0, 0, 0, 0.3));\n",
              "      fill: #FFFFFF;\n",
              "    }\n",
              "  </style>\n",
              "\n",
              "    <script>\n",
              "      const buttonEl =\n",
              "        document.querySelector('#df-21ffe273-f52f-4e2b-9805-4eb2943ce49b button.colab-df-convert');\n",
              "      buttonEl.style.display =\n",
              "        google.colab.kernel.accessAllowed ? 'block' : 'none';\n",
              "\n",
              "      async function convertToInteractive(key) {\n",
              "        const element = document.querySelector('#df-21ffe273-f52f-4e2b-9805-4eb2943ce49b');\n",
              "        const dataTable =\n",
              "          await google.colab.kernel.invokeFunction('convertToInteractive',\n",
              "                                                    [key], {});\n",
              "        if (!dataTable) return;\n",
              "\n",
              "        const docLinkHtml = 'Like what you see? Visit the ' +\n",
              "          '<a target=\"_blank\" href=https://colab.research.google.com/notebooks/data_table.ipynb>data table notebook</a>'\n",
              "          + ' to learn more about interactive tables.';\n",
              "        element.innerHTML = '';\n",
              "        dataTable['output_type'] = 'display_data';\n",
              "        await google.colab.output.renderOutput(dataTable, element);\n",
              "        const docLink = document.createElement('div');\n",
              "        docLink.innerHTML = docLinkHtml;\n",
              "        element.appendChild(docLink);\n",
              "      }\n",
              "    </script>\n",
              "  </div>\n",
              "\n",
              "\n",
              "    <div id=\"df-6f8f8c97-27e6-4cac-b785-4f96bf35d48e\">\n",
              "      <button class=\"colab-df-quickchart\" onclick=\"quickchart('df-6f8f8c97-27e6-4cac-b785-4f96bf35d48e')\"\n",
              "                title=\"Suggest charts\"\n",
              "                style=\"display:none;\">\n",
              "\n",
              "<svg xmlns=\"http://www.w3.org/2000/svg\" height=\"24px\"viewBox=\"0 0 24 24\"\n",
              "     width=\"24px\">\n",
              "    <g>\n",
              "        <path d=\"M19 3H5c-1.1 0-2 .9-2 2v14c0 1.1.9 2 2 2h14c1.1 0 2-.9 2-2V5c0-1.1-.9-2-2-2zM9 17H7v-7h2v7zm4 0h-2V7h2v10zm4 0h-2v-4h2v4z\"/>\n",
              "    </g>\n",
              "</svg>\n",
              "      </button>\n",
              "\n",
              "<style>\n",
              "  .colab-df-quickchart {\n",
              "      --bg-color: #E8F0FE;\n",
              "      --fill-color: #1967D2;\n",
              "      --hover-bg-color: #E2EBFA;\n",
              "      --hover-fill-color: #174EA6;\n",
              "      --disabled-fill-color: #AAA;\n",
              "      --disabled-bg-color: #DDD;\n",
              "  }\n",
              "\n",
              "  [theme=dark] .colab-df-quickchart {\n",
              "      --bg-color: #3B4455;\n",
              "      --fill-color: #D2E3FC;\n",
              "      --hover-bg-color: #434B5C;\n",
              "      --hover-fill-color: #FFFFFF;\n",
              "      --disabled-bg-color: #3B4455;\n",
              "      --disabled-fill-color: #666;\n",
              "  }\n",
              "\n",
              "  .colab-df-quickchart {\n",
              "    background-color: var(--bg-color);\n",
              "    border: none;\n",
              "    border-radius: 50%;\n",
              "    cursor: pointer;\n",
              "    display: none;\n",
              "    fill: var(--fill-color);\n",
              "    height: 32px;\n",
              "    padding: 0;\n",
              "    width: 32px;\n",
              "  }\n",
              "\n",
              "  .colab-df-quickchart:hover {\n",
              "    background-color: var(--hover-bg-color);\n",
              "    box-shadow: 0 1px 2px rgba(60, 64, 67, 0.3), 0 1px 3px 1px rgba(60, 64, 67, 0.15);\n",
              "    fill: var(--button-hover-fill-color);\n",
              "  }\n",
              "\n",
              "  .colab-df-quickchart-complete:disabled,\n",
              "  .colab-df-quickchart-complete:disabled:hover {\n",
              "    background-color: var(--disabled-bg-color);\n",
              "    fill: var(--disabled-fill-color);\n",
              "    box-shadow: none;\n",
              "  }\n",
              "\n",
              "  .colab-df-spinner {\n",
              "    border: 2px solid var(--fill-color);\n",
              "    border-color: transparent;\n",
              "    border-bottom-color: var(--fill-color);\n",
              "    animation:\n",
              "      spin 1s steps(1) infinite;\n",
              "  }\n",
              "\n",
              "  @keyframes spin {\n",
              "    0% {\n",
              "      border-color: transparent;\n",
              "      border-bottom-color: var(--fill-color);\n",
              "      border-left-color: var(--fill-color);\n",
              "    }\n",
              "    20% {\n",
              "      border-color: transparent;\n",
              "      border-left-color: var(--fill-color);\n",
              "      border-top-color: var(--fill-color);\n",
              "    }\n",
              "    30% {\n",
              "      border-color: transparent;\n",
              "      border-left-color: var(--fill-color);\n",
              "      border-top-color: var(--fill-color);\n",
              "      border-right-color: var(--fill-color);\n",
              "    }\n",
              "    40% {\n",
              "      border-color: transparent;\n",
              "      border-right-color: var(--fill-color);\n",
              "      border-top-color: var(--fill-color);\n",
              "    }\n",
              "    60% {\n",
              "      border-color: transparent;\n",
              "      border-right-color: var(--fill-color);\n",
              "    }\n",
              "    80% {\n",
              "      border-color: transparent;\n",
              "      border-right-color: var(--fill-color);\n",
              "      border-bottom-color: var(--fill-color);\n",
              "    }\n",
              "    90% {\n",
              "      border-color: transparent;\n",
              "      border-bottom-color: var(--fill-color);\n",
              "    }\n",
              "  }\n",
              "</style>\n",
              "\n",
              "      <script>\n",
              "        async function quickchart(key) {\n",
              "          const quickchartButtonEl =\n",
              "            document.querySelector('#' + key + ' button');\n",
              "          quickchartButtonEl.disabled = true;  // To prevent multiple clicks.\n",
              "          quickchartButtonEl.classList.add('colab-df-spinner');\n",
              "          try {\n",
              "            const charts = await google.colab.kernel.invokeFunction(\n",
              "                'suggestCharts', [key], {});\n",
              "          } catch (error) {\n",
              "            console.error('Error during call to suggestCharts:', error);\n",
              "          }\n",
              "          quickchartButtonEl.classList.remove('colab-df-spinner');\n",
              "          quickchartButtonEl.classList.add('colab-df-quickchart-complete');\n",
              "        }\n",
              "        (() => {\n",
              "          let quickchartButtonEl =\n",
              "            document.querySelector('#df-6f8f8c97-27e6-4cac-b785-4f96bf35d48e button');\n",
              "          quickchartButtonEl.style.display =\n",
              "            google.colab.kernel.accessAllowed ? 'block' : 'none';\n",
              "        })();\n",
              "      </script>\n",
              "    </div>\n",
              "\n",
              "    </div>\n",
              "  </div>\n"
            ],
            "application/vnd.google.colaboratory.intrinsic+json": {
              "type": "dataframe",
              "variable_name": "tienda",
              "summary": "{\n  \"name\": \"tienda\",\n  \"rows\": 2359,\n  \"fields\": [\n    {\n      \"column\": \"Producto\",\n      \"properties\": {\n        \"dtype\": \"category\",\n        \"num_unique_values\": 51,\n        \"samples\": [\n          \"Guitarra ac\\u00fastica\",\n          \"Bal\\u00f3n de baloncesto\",\n          \"Smartwatch\"\n        ],\n        \"semantic_type\": \"\",\n        \"description\": \"\"\n      }\n    },\n    {\n      \"column\": \"Categor\\u00eda del Producto\",\n      \"properties\": {\n        \"dtype\": \"category\",\n        \"num_unique_values\": 8,\n        \"samples\": [\n          \"Muebles\",\n          \"Deportes y diversi\\u00f3n\",\n          \"Electr\\u00f3nicos\"\n        ],\n        \"semantic_type\": \"\",\n        \"description\": \"\"\n      }\n    },\n    {\n      \"column\": \"Precio\",\n      \"properties\": {\n        \"dtype\": \"number\",\n        \"std\": 614686.7653873172,\n        \"min\": 7600.0,\n        \"max\": 2977000.0,\n        \"num_unique_values\": 1937,\n        \"samples\": [\n          2499400.0,\n          14800.0,\n          80500.0\n        ],\n        \"semantic_type\": \"\",\n        \"description\": \"\"\n      }\n    },\n    {\n      \"column\": \"Costo de env\\u00edo\",\n      \"properties\": {\n        \"dtype\": \"number\",\n        \"std\": 32860.0017825605,\n        \"min\": 0.0,\n        \"max\": 160800.0,\n        \"num_unique_values\": 753,\n        \"samples\": [\n          117800.0,\n          54700.0,\n          45600.0\n        ],\n        \"semantic_type\": \"\",\n        \"description\": \"\"\n      }\n    },\n    {\n      \"column\": \"Fecha de Compra\",\n      \"properties\": {\n        \"dtype\": \"object\",\n        \"num_unique_values\": 1018,\n        \"samples\": [\n          \"15/09/2022\",\n          \"03/06/2020\",\n          \"06/11/2021\"\n        ],\n        \"semantic_type\": \"\",\n        \"description\": \"\"\n      }\n    },\n    {\n      \"column\": \"Vendedor\",\n      \"properties\": {\n        \"dtype\": \"category\",\n        \"num_unique_values\": 14,\n        \"samples\": [\n          \"Juliana Costa\",\n          \"Mariana Herrera\",\n          \"Pedro Gomez\"\n        ],\n        \"semantic_type\": \"\",\n        \"description\": \"\"\n      }\n    },\n    {\n      \"column\": \"Lugar de Compra\",\n      \"properties\": {\n        \"dtype\": \"category\",\n        \"num_unique_values\": 19,\n        \"samples\": [\n          \"Bogot\\u00e1\",\n          \"Pereira\",\n          \"Neiva\"\n        ],\n        \"semantic_type\": \"\",\n        \"description\": \"\"\n      }\n    },\n    {\n      \"column\": \"Calificaci\\u00f3n\",\n      \"properties\": {\n        \"dtype\": \"number\",\n        \"std\": 1,\n        \"min\": 1,\n        \"max\": 5,\n        \"num_unique_values\": 5,\n        \"samples\": [\n          1,\n          2,\n          5\n        ],\n        \"semantic_type\": \"\",\n        \"description\": \"\"\n      }\n    },\n    {\n      \"column\": \"M\\u00e9todo de pago\",\n      \"properties\": {\n        \"dtype\": \"category\",\n        \"num_unique_values\": 4,\n        \"samples\": [\n          \"Nequi\",\n          \"Tarjeta de d\\u00e9bito\",\n          \"Tarjeta de cr\\u00e9dito\"\n        ],\n        \"semantic_type\": \"\",\n        \"description\": \"\"\n      }\n    },\n    {\n      \"column\": \"Cantidad de cuotas\",\n      \"properties\": {\n        \"dtype\": \"number\",\n        \"std\": 2,\n        \"min\": 1,\n        \"max\": 24,\n        \"num_unique_values\": 15,\n        \"samples\": [\n          7,\n          14,\n          8\n        ],\n        \"semantic_type\": \"\",\n        \"description\": \"\"\n      }\n    },\n    {\n      \"column\": \"lat\",\n      \"properties\": {\n        \"dtype\": \"number\",\n        \"std\": 2.2874452492678627,\n        \"min\": -4.21528,\n        \"max\": 11.54444,\n        \"num_unique_values\": 19,\n        \"samples\": [\n          4.60971,\n          4.81333,\n          2.9273\n        ],\n        \"semantic_type\": \"\",\n        \"description\": \"\"\n      }\n    },\n    {\n      \"column\": \"lon\",\n      \"properties\": {\n        \"dtype\": \"number\",\n        \"std\": 1.2178272727088486,\n        \"min\": -77.28111,\n        \"max\": -67.9239,\n        \"num_unique_values\": 19,\n        \"samples\": [\n          -74.08175,\n          -75.69611,\n          -75.28189\n        ],\n        \"semantic_type\": \"\",\n        \"description\": \"\"\n      }\n    }\n  ]\n}"
            }
          },
          "metadata": {},
          "execution_count": 1
        }
      ],
      "source": [
        "import pandas as pd\n",
        "\n",
        "url = \"https://raw.githubusercontent.com/alura-es-cursos/challenge1-data-science-latam/refs/heads/main/base-de-datos-challenge1-latam/tienda_1%20.csv\"\n",
        "url2 = \"https://raw.githubusercontent.com/alura-es-cursos/challenge1-data-science-latam/refs/heads/main/base-de-datos-challenge1-latam/tienda_2.csv\"\n",
        "url3 = \"https://raw.githubusercontent.com/alura-es-cursos/challenge1-data-science-latam/refs/heads/main/base-de-datos-challenge1-latam/tienda_3.csv\"\n",
        "url4 = \"https://raw.githubusercontent.com/alura-es-cursos/challenge1-data-science-latam/refs/heads/main/base-de-datos-challenge1-latam/tienda_4.csv\"\n",
        "\n",
        "tienda = pd.read_csv(url)\n",
        "tienda2 = pd.read_csv(url2)\n",
        "tienda3 = pd.read_csv(url3)\n",
        "tienda4 = pd.read_csv(url4)\n",
        "\n",
        "tienda.head()"
      ]
    },
    {
      "cell_type": "markdown",
      "source": [
        "#1. Análisis de facturación\n",
        "\n"
      ],
      "metadata": {
        "id": "X62IW3KFUIYm"
      }
    },
    {
      "cell_type": "code",
      "source": [
        "ingreso_tienda1 = tienda[\"Precio\"].sum()\n",
        "ingreso_tienda2 = tienda2[\"Precio\"].sum()\n",
        "ingreso_tienda3 = tienda3[\"Precio\"].sum()\n",
        "ingreso_tienda4 = tienda4[\"Precio\"].sum()\n"
      ],
      "metadata": {
        "id": "xykobSftV64I"
      },
      "execution_count": 2,
      "outputs": []
    },
    {
      "cell_type": "code",
      "source": [
        "print(\"Ingreso Tienda 1:\", ingreso_tienda1)\n",
        "print(\"Ingreso Tienda 2:\", ingreso_tienda2)\n",
        "print(\"Ingreso Tienda 3:\", ingreso_tienda3)\n",
        "print(\"Ingreso Tienda 4:\", ingreso_tienda4)"
      ],
      "metadata": {
        "id": "KDyr8E71V3m-",
        "colab": {
          "base_uri": "https://localhost:8080/"
        },
        "outputId": "9b84c4f3-2c0b-4a53-e0e4-dc3a222a8b09"
      },
      "execution_count": 3,
      "outputs": [
        {
          "output_type": "stream",
          "name": "stdout",
          "text": [
            "Ingreso Tienda 1: 1150880400.0\n",
            "Ingreso Tienda 2: 1116343500.0\n",
            "Ingreso Tienda 3: 1098019600.0\n",
            "Ingreso Tienda 4: 1038375700.0\n"
          ]
        }
      ]
    },
    {
      "cell_type": "markdown",
      "source": [
        "# 2. Ventas por categoría"
      ],
      "metadata": {
        "id": "2V_vcAPzWZmR"
      }
    },
    {
      "cell_type": "code",
      "source": [
        "categorias_tienda1 = tienda.groupby(\"Categoría del Producto\").size()\n",
        "categorias_tienda2 = tienda2.groupby(\"Categoría del Producto\").size()\n",
        "categorias_tienda3 = tienda3.groupby(\"Categoría del Producto\").size()\n",
        "categorias_tienda4 = tienda4.groupby(\"Categoría del Producto\").size()\n"
      ],
      "metadata": {
        "id": "7C4BqJJgYxA0"
      },
      "execution_count": 31,
      "outputs": []
    },
    {
      "cell_type": "code",
      "source": [
        "print(f\"Tienda 1:\\n{categorias_tienda1}\")\n",
        "print(f\"Tienda 2:\\n{categorias_tienda2}\")\n",
        "print(f\"Tienda 3:\\n{categorias_tienda3}\")\n",
        "print(f\"Tienda 4:\\n{categorias_tienda4}\")\n"
      ],
      "metadata": {
        "colab": {
          "base_uri": "https://localhost:8080/"
        },
        "id": "hc0cftz8aDXQ",
        "outputId": "c35094e6-b406-4eee-f665-9f754afbd655"
      },
      "execution_count": 32,
      "outputs": [
        {
          "output_type": "stream",
          "name": "stdout",
          "text": [
            "Tienda 1:\n",
            "Categoría del Producto\n",
            "Artículos para el hogar    171\n",
            "Deportes y diversión       284\n",
            "Electrodomésticos          312\n",
            "Electrónicos               448\n",
            "Instrumentos musicales     182\n",
            "Juguetes                   324\n",
            "Libros                     173\n",
            "Muebles                    465\n",
            "dtype: int64\n",
            "Tienda 2:\n",
            "Categoría del Producto\n",
            "Artículos para el hogar    181\n",
            "Deportes y diversión       275\n",
            "Electrodomésticos          305\n",
            "Electrónicos               422\n",
            "Instrumentos musicales     224\n",
            "Juguetes                   313\n",
            "Libros                     197\n",
            "Muebles                    442\n",
            "dtype: int64\n",
            "Tienda 3:\n",
            "Categoría del Producto\n",
            "Artículos para el hogar    177\n",
            "Deportes y diversión       277\n",
            "Electrodomésticos          278\n",
            "Electrónicos               451\n",
            "Instrumentos musicales     177\n",
            "Juguetes                   315\n",
            "Libros                     185\n",
            "Muebles                    499\n",
            "dtype: int64\n",
            "Tienda 4:\n",
            "Categoría del Producto\n",
            "Artículos para el hogar    201\n",
            "Deportes y diversión       277\n",
            "Electrodomésticos          254\n",
            "Electrónicos               451\n",
            "Instrumentos musicales     170\n",
            "Juguetes                   338\n",
            "Libros                     187\n",
            "Muebles                    480\n",
            "dtype: int64\n"
          ]
        }
      ]
    },
    {
      "cell_type": "markdown",
      "source": [
        "# 3. Calificación promedio de la tienda\n"
      ],
      "metadata": {
        "id": "Rq6tU_xSY3jk"
      }
    },
    {
      "cell_type": "code",
      "source": [
        "promedio_tienda1 = tienda[\"Calificación\"].mean()\n",
        "promedio_tienda2 = tienda2[\"Calificación\"].mean()\n",
        "promedio_tienda3 = tienda3[\"Calificación\"].mean()\n",
        "promedio_tienda4 = tienda4[\"Calificación\"].mean()"
      ],
      "metadata": {
        "id": "bh3jjjJwY5MU"
      },
      "execution_count": 33,
      "outputs": []
    },
    {
      "cell_type": "code",
      "source": [
        "print(\"La Calificación promedio Tienda 1:\", promedio_tienda1)\n",
        "print(\"La Calificación promedio Tienda 2:\", promedio_tienda2)\n",
        "print(\"La Calificación promedio Tienda 3:\", promedio_tienda3)\n",
        "print(\"La Calificación promedio Tienda 4:\", promedio_tienda4)"
      ],
      "metadata": {
        "id": "I0KkjPoTY88F",
        "colab": {
          "base_uri": "https://localhost:8080/"
        },
        "outputId": "e8e98860-30ce-419e-9490-7e3c73ace5f7"
      },
      "execution_count": 34,
      "outputs": [
        {
          "output_type": "stream",
          "name": "stdout",
          "text": [
            "La Calificación promedio Tienda 1: 3.976685036032217\n",
            "La Calificación promedio Tienda 2: 4.037303942348453\n",
            "La Calificación promedio Tienda 3: 4.048325561678677\n",
            "La Calificación promedio Tienda 4: 3.9957591178965224\n"
          ]
        }
      ]
    },
    {
      "cell_type": "markdown",
      "source": [
        "# 4. Productos más y menos vendidos"
      ],
      "metadata": {
        "id": "DmNp1KPBZCm-"
      }
    },
    {
      "cell_type": "code",
      "source": [
        "import matplotlib.pyplot as plt\n"
      ],
      "metadata": {
        "id": "qoyjqijQZHfF"
      },
      "execution_count": 29,
      "outputs": []
    },
    {
      "cell_type": "code",
      "source": [
        "print(\"Producto más vendido Tienda 1:\", categorias_tienda1.idxmax(), \"-\", categorias_tienda1.max(), \"ventas\")\n",
        "print(\"Producto menos vendido Tienda 1:\", categorias_tienda1.idxmin(), \"-\", categorias_tienda1.min(), \"ventas\")\n",
        "print(\"Producto más vendido Tienda 2:\", categorias_tienda2.idxmax(), \"-\", categorias_tienda2.max(), \"ventas\")\n",
        "print(\"Producto menos vendido Tienda 2:\", categorias_tienda2.idxmin(), \"-\", categorias_tienda2.min(), \"ventas\")\n",
        "print(\"Producto más vendido Tienda 3:\", categorias_tienda3.idxmax(), \"-\", categorias_tienda3.max(), \"ventas\")\n",
        "print(\"Producto menos vendido Tienda 3:\", categorias_tienda3.idxmin(), \"-\", categorias_tienda3.min(), \"ventas\")\n",
        "print(\"Producto más vendido Tienda 4:\", categorias_tienda4.idxmax(), \"-\", categorias_tienda4.max(), \"ventas\")\n",
        "print(\"Producto menos vendido Tienda 4:\", categorias_tienda4.idxmin(), \"-\", categorias_tienda4.min(), \"ventas\")"
      ],
      "metadata": {
        "id": "0Sw3sd4IZIGW",
        "colab": {
          "base_uri": "https://localhost:8080/"
        },
        "outputId": "e7b5152e-2a72-4524-d72d-2de36335ab2d"
      },
      "execution_count": 35,
      "outputs": [
        {
          "output_type": "stream",
          "name": "stdout",
          "text": [
            "Producto más vendido Tienda 1: Muebles - 465 ventas\n",
            "Producto menos vendido Tienda 1: Artículos para el hogar - 171 ventas\n",
            "Producto más vendido Tienda 2: Muebles - 442 ventas\n",
            "Producto menos vendido Tienda 2: Artículos para el hogar - 181 ventas\n",
            "Producto más vendido Tienda 3: Muebles - 499 ventas\n",
            "Producto menos vendido Tienda 3: Artículos para el hogar - 177 ventas\n",
            "Producto más vendido Tienda 4: Muebles - 480 ventas\n",
            "Producto menos vendido Tienda 4: Instrumentos musicales - 170 ventas\n"
          ]
        }
      ]
    },
    {
      "cell_type": "markdown",
      "source": [
        "# 5. Envío promedio por tienda"
      ],
      "metadata": {
        "id": "Fl0cGi3bZKqU"
      }
    },
    {
      "cell_type": "code",
      "source": [
        "print(\"Tienda 1 - Costo de envío promedio:\")\n",
        "print(tienda[\"Costo de envío\"].mean())\n",
        "\n",
        "print(\"\\nTienda 2 - Costo de envío promedio:\")\n",
        "print(tienda2[\"Costo de envío\"].mean())\n",
        "\n",
        "print(\"\\nTienda 3 - Costo de envío promedio:\")\n",
        "print(tienda3[\"Costo de envío\"].mean())\n",
        "\n",
        "print(\"\\nTienda 4 - Costo de envío promedio:\")\n",
        "print(tienda4[\"Costo de envío\"].mean())"
      ],
      "metadata": {
        "id": "S2JeaCykZNy9",
        "colab": {
          "base_uri": "https://localhost:8080/"
        },
        "outputId": "8a0d28d5-34bc-46a7-cacb-7e57eab6334a"
      },
      "execution_count": 43,
      "outputs": [
        {
          "output_type": "stream",
          "name": "stdout",
          "text": [
            "Tienda 1 - Costo de envío promedio:\n",
            "26018.60958033065\n",
            "\n",
            "Tienda 2 - Costo de envío promedio:\n",
            "25216.235693090293\n",
            "\n",
            "Tienda 3 - Costo de envío promedio:\n",
            "24805.680373039424\n",
            "\n",
            "Tienda 4 - Costo de envío promedio:\n",
            "23459.457167090754\n"
          ]
        }
      ]
    },
    {
      "cell_type": "code",
      "source": [
        "## Demostración Gráfica\n",
        "# Primer gráfico de barras con los ingresos totales por tienda."
      ],
      "metadata": {
        "id": "0tSdCie9ZQlt"
      },
      "execution_count": 43,
      "outputs": []
    },
    {
      "cell_type": "code",
      "source": [
        "ingresos= [tienda[\"Precio\"].sum(),\n",
        "tienda2[\"Precio\"].sum(),\n",
        "tienda3[\"Precio\"].sum(),\n",
        "tienda4[\"Precio\"].sum()]\n",
        "\n",
        "tiendas = [\"Tienda 1\", \"Tienda 2\", \"Tienda 3\", \"Tienda 4\"]\n",
        "print(tienda[\"Precio\"].sum())"
      ],
      "metadata": {
        "colab": {
          "base_uri": "https://localhost:8080/"
        },
        "id": "8UyifijDhUMl",
        "outputId": "7c863688-c0db-4ca5-9622-5a06087e45f2"
      },
      "execution_count": 55,
      "outputs": [
        {
          "output_type": "stream",
          "name": "stdout",
          "text": [
            "1150880400.0\n"
          ]
        }
      ]
    },
    {
      "cell_type": "code",
      "source": [
        "ingresos_millones = [i/1_000_000 for i in ingresos]\n",
        "plt.bar(tiendas, ingresos_millones)\n",
        "plt.title(\"Ingresos Totales por Tienda\")\n",
        "plt.ylabel(\"Ingresos ($ millones)\")\n",
        "plt.show()"
      ],
      "metadata": {
        "colab": {
          "base_uri": "https://localhost:8080/",
          "height": 452
        },
        "id": "7-W-pm9khpdR",
        "outputId": "a6fbf6e3-a234-4f64-8003-18744d51cdee"
      },
      "execution_count": 58,
      "outputs": [
        {
          "output_type": "display_data",
          "data": {
            "text/plain": [
              "<Figure size 640x480 with 1 Axes>"
            ],
            "image/png": "[encoded data removed]"
          },
          "metadata": {}
        }
      ]
    },
    {
      "cell_type": "markdown",
      "source": [
        "# Grafico que representa la cantidad promedio costo de envío de productos"
      ],
      "metadata": {
        "id": "TMKFNjArkGCJ"
      }
    },
    {
      "cell_type": "code",
      "source": [
        "costopromedio1 = tienda[\"Costo de envío\"].mean()\n",
        "costopromedio2 = tienda2[\"Costo de envío\"].mean()\n",
        "costopromedio3 = tienda3[\"Costo de envío\"].mean()\n",
        "costopromedio4 = tienda4[\"Costo de envío\"].mean()"
      ],
      "metadata": {
        "id": "LhujV2GlmiMM"
      },
      "execution_count": 81,
      "outputs": []
    },
    {
      "cell_type": "code",
      "source": [
        "costopromedio = [costopromedio1, costopromedio2, costopromedio3, costopromedio4]\n",
        "tiendas = [\"Tienda 1\", \"Tienda 2\", \"Tienda 3\", \"Tienda 4\"]"
      ],
      "metadata": {
        "id": "Ia3juqenmj37"
      },
      "execution_count": 82,
      "outputs": []
    },
    {
      "cell_type": "code",
      "source": [
        "plt.barh(tiendas, costopromedio)\n",
        "plt.title(\"Costo de envío\")\n",
        "plt.xlabel(\"Costo promedio de envío de productos\")\n",
        "plt.show()"
      ],
      "metadata": {
        "colab": {
          "base_uri": "https://localhost:8080/",
          "height": 472
        },
        "id": "hvxTAyP0ml7P",
        "outputId": "32d4dbd5-8e0f-4865-8ff8-5b1e198c1bed"
      },
      "execution_count": 83,
      "outputs": [
        {
          "output_type": "display_data",
          "data": {
            "text/plain": [
              "<Figure size 640x480 with 1 Axes>"
            ],
            "image/png": "[encoded data removed]"
          },
          "metadata": {}
        }
      ]
    },
    {
      "cell_type": "markdown",
      "source": [],
      "metadata": {
        "id": "N-izrejDuY0W"
      }
    },
    {
      "cell_type": "markdown",
      "source": [
        "# Grafico muestra el promedio de calificación por tienda"
      ],
      "metadata": {
        "id": "klZhTKENpKkT"
      }
    },
    {
      "cell_type": "code",
      "source": [
        "calificación1 = tienda[\"Calificación\"].mean()\n",
        "calificación2 = tienda2[\"Calificación\"].mean()\n",
        "calificación3 = tienda3[\"Calificación\"].mean()\n",
        "calificación4 = tienda4[\"Calificación\"].mean()"
      ],
      "metadata": {
        "id": "6bEUfg7PpQzt"
      },
      "execution_count": 73,
      "outputs": []
    },
    {
      "cell_type": "code",
      "source": [
        "calificación = [calificación1, calificación2, calificación3, calificación4]\n",
        "tiendas = [\"Tienda 1\", \"Tienda 2\", \"Tienda 3\", \"Tienda 4\"]"
      ],
      "metadata": {
        "id": "UU0c57t7pgbG"
      },
      "execution_count": 74,
      "outputs": []
    },
    {
      "cell_type": "code",
      "source": [
        "\n",
        "plt.pie(calificación, labels=tiendas, autopct=\"%1.1f%%\", startangle=90)\n",
        "plt.title(\"Calificación promedio por tienda\")\n",
        "plt.show()"
      ],
      "metadata": {
        "colab": {
          "base_uri": "https://localhost:8080/",
          "height": 429
        },
        "id": "ydYxUHcdppAD",
        "outputId": "d01924c4-38f9-4e6d-d202-e5d5dd042e04"
      },
      "execution_count": 77,
      "outputs": [
        {
          "output_type": "display_data",
          "data": {
            "text/plain": [
              "<Figure size 640x480 with 1 Axes>"
            ],
            "image/png": "[encoded data removed]"
          },
          "metadata": {}
        }
      ]
    },
    {
      "cell_type": "markdown",
      "source": [
        "#INFORME FINAL\n",
        "##Detalle\n",
        "El presente informe tiene como propósito analizar el desempeño de cuatro tiendas con el fin de recomendar al Sr. Juan en cuál de ellas debería vender sus productos. Para ello, se consideraron distintos factores: los ingresos totales de cada tienda, la distribución de categorías de productos, las calificaciones promedio otorgadas por los clientes, los productos más y menos vendidos, y el costo de envío promedio. Con base en estos indicadores, se evaluaron las fortalezas y debilidades de cada tienda y se determinará la opción más conveniente.\n",
        "\n",
        "##Desarrollo del análisis\n",
        "\n",
        "###Ingresos totales por tienda:\n",
        "\n",
        "Se observó que la Tienda 1  presenta los mayores ingresos, superando al resto.\n",
        "\n",
        "La Tienda 4 se posiciona como la de menores ingresos.\n",
        "\n",
        "Este indicador refleja que la tienda con mayores ingresos tiene una mayor capacidad de atraer clientes y volumen de ventas.\n",
        "\n",
        "###Categorías de productos más y menos vendidas\n",
        "\n",
        "El análisis de  categorías mostró que en la Tienda 3 predomina la  categorías de muebles, lo que indica un mercado con alta demanda en este producto.\n",
        "\n",
        "En contraste, otras tiendas presentaron categorías menos diversificadas o con bajo movimiento.\n",
        "\n",
        "###Calificaciones promedio de clientes\n",
        "\n",
        "La Tienda con mejor calificación fue 3, lo que indica mayor satisfacción y confianza por parte de los compradores.\n",
        "\n",
        "Algunas tiendas mostraron calificaciones más bajas, lo cual puede ser un riesgo en términos de reputación y fidelización de clientes.\n",
        "\n",
        "###Productos más y menos vendidos\n",
        "\n",
        "El gráfico evidenció que ciertos productos concentran gran parte de las ventas en algunas tiendas, lo que puede ser positivo si coincide con los productos del Sr. Juan.\n",
        "\n",
        "En otras, la dispersión fue mayor, lo que reduce el riesgo pero también puede indicar menor especialización.\n",
        "\n",
        "###Costo de envío promedio\n",
        "La Tienda 4 presentó un costo de envío promedio más bajo, lo que favorece la decisión de compra de los clientes.\n",
        "\n",
        "En cambio, la Tienda 1 mostró costos de envío más elevados, lo que podría desincentivar las ventas.\n",
        "\n",
        "###Conclusión y recomendación\n",
        "En conclusión El Sr. Juan debería vender en la Tienda 3.\n",
        "\n",
        "Las razones son las siguientes: tiene muy buena reputación (mejores calificaciones de clientes).\n",
        "\n",
        "Su categoría principal (muebles) refleja una alta demanda del mercado.\n",
        "\n",
        "Mantiene un equilibrio entre ventas sólidas y costos de envío razonables.\n",
        "\n",
        "A diferencia de Tienda 1, no presenta la desventaja de costos de envío excesivos.\n",
        "\n",
        "A diferencia de Tienda 4, no tiene ingresos tan bajos que limiten el alcance.\n",
        "\n",
        "Por lo tanto la Tienda 3 es la opción más conveniente para el Sr. Juan, ya que combina confianza, demanda y sostenibilidad mejor que las demás."
      ],
      "metadata": {
        "id": "3oEzOTW9qR7d"
      }
    },
    {
      "cell_type": "code",
      "source": [],
      "metadata": {
        "id": "wj8HbYytp_kV"
      },
      "execution_count": null,
      "outputs": []
    }
  ]
}